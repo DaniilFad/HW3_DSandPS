{
 "cells": [
  {
   "cell_type": "markdown",
   "metadata": {},
   "source": [
    "### Группировка данных и оконные функции."
   ]
  },
  {
   "cell_type": "markdown",
   "metadata": {},
   "source": [
    "#### Задание ####\n",
    "\n",
    "1) Вывести распределение (количество) клиентов по сферам деятельности, отсортировав результат по убыванию количества.\n",
    "2) Найти сумму транзакций за каждый месяц по сферам деятельности, отсортировав по месяцам и по сфере деятельности.\n",
    "3) Вывести количество онлайн-заказов для всех брендов в рамках подтвержденных заказов клиентов из сферы IT.\n",
    "4) Найти по всем клиентам сумму всех транзакций (list_price), максимум, минимум и количество транзакций, отсортировав результат по убыванию суммы транзакций и количества клиентов. \n",
    "    - 4.1) Выполните используя только group by.\n",
    "    - 4.2) Выполните используя только оконные функции.\n",
    "5) Найти имена и фамилии клиентов с минимальной/максимальной суммой транзакций за весь период (сумма транзакций не может быть null). \n",
    "    - 5.1) Напишите запрос для минимальной суммы.\n",
    "    - 5.2) Напишите запрос для максимальной суммы.\n",
    "6) Вывести только самые первые транзакции клиентов. Решить с помощью оконных функций.\n",
    "7) Вывести имена, фамилии и профессии клиентов, между транзакциями которых был максимальный интервал (интервал вычисляется в днях)."
   ]
  },
  {
   "cell_type": "markdown",
   "metadata": {},
   "source": [
    "Так как в первом домашнем задании мы уже работали с этими данными и улучшили их структуру, я буду использовать созданную мной схему, а не исходную. Это кажется мне более логичным и правильным решением."
   ]
  },
  {
   "cell_type": "markdown",
   "metadata": {},
   "source": [
    "![title](Схема_0.png)"
   ]
  },
  {
   "cell_type": "markdown",
   "metadata": {},
   "source": [
    "#### 1. Вывести распределение (количество) клиентов по сферам деятельности, отсортировав результат по убыванию количества. ####"
   ]
  },
  {
   "cell_type": "markdown",
   "metadata": {},
   "source": [
    "~~~~sql\n",
    "SELECT \n",
    "    job_industry_category, \n",
    "    COUNT(job_industry_category)\n",
    "FROM job_categories\n",
    "GROUP BY \n",
    "    job_industry_category\n",
    "ORDER BY \n",
    "    COUNT(job_industry_category) DESC;\n",
    "~~~~"
   ]
  },
  {
   "cell_type": "markdown",
   "metadata": {},
   "source": [
    "![title](Схема_1.png)"
   ]
  },
  {
   "cell_type": "markdown",
   "metadata": {},
   "source": [
    "#### 2. Найти сумму транзакций за каждый месяц по сферам деятельности, отсортировав по месяцам и по сфере деятельности. ####"
   ]
  },
  {
   "cell_type": "markdown",
   "metadata": {},
   "source": [
    "~~~~sql\n",
    "SELECT \n",
    "    TO_CHAR(transactions.transaction_date, 'YYYY-MM') AS transaction_month,\n",
    "    job_categories.job_industry_category,\n",
    "    SUM(transactions.list_price) AS total_transaction\n",
    "FROM transactions\n",
    "    JOIN customers ON transactions.customer_id = customers.customer_id\n",
    "    JOIN job_categories ON customers.job_id = job_categories.job_id\n",
    "GROUP BY \n",
    "    transaction_month, \n",
    "    job_categories.job_industry_category\n",
    "ORDER BY \n",
    "    transaction_month, \n",
    "    job_categories.job_industry_category;\n",
    "~~~~"
   ]
  },
  {
   "cell_type": "markdown",
   "metadata": {},
   "source": [
    "![title](Схема_2.png)"
   ]
  },
  {
   "cell_type": "markdown",
   "metadata": {},
   "source": [
    "#### 3. Вывести количество онлайн-заказов для всех брендов в рамках подтвержденных заказов клиентов из сферы IT. ####"
   ]
  },
  {
   "cell_type": "markdown",
   "metadata": {},
   "source": [
    "~~~~sql\n",
    "SELECT \n",
    "    products.brand, \n",
    "    COUNT(transactions.transaction_id) AS count_transactions\n",
    "FROM transactions\n",
    "    JOIN customers ON transactions.customer_id = customers.customer_id\n",
    "    JOIN products ON transactions.product_new_id = products.product_new_id \n",
    "    JOIN job_categories ON customers.job_id = job_categories.job_id\n",
    "WHERE \n",
    "    (transactions.online_order = TRUE)\n",
    "    AND (transactions.order_status = 'Approved')\n",
    "    AND (job_categories.job_industry_category = 'IT')\n",
    "GROUP BY \n",
    "    products.brand;\n",
    "~~~~"
   ]
  },
  {
   "cell_type": "markdown",
   "metadata": {},
   "source": [
    "![title](Схема_3.png)"
   ]
  },
  {
   "cell_type": "markdown",
   "metadata": {},
   "source": [
    "#### 4. Найти по всем клиентам сумму всех транзакций (list_price), максимум, минимум и количество транзакций, отсортировав результат по убыванию суммы транзакций и количества клиентов. ####"
   ]
  },
  {
   "cell_type": "markdown",
   "metadata": {},
   "source": [
    "##### 4.1. Выполните используя только group by."
   ]
  },
  {
   "cell_type": "markdown",
   "metadata": {},
   "source": [
    "Насколько я понял функции SUM(), MIN(), MAX(), COUNT() не являются оконными без OVER()."
   ]
  },
  {
   "cell_type": "markdown",
   "metadata": {},
   "source": [
    "~~~~sql\n",
    "SELECT \n",
    "    customers.customer_id, \n",
    "    customers.first_name, \n",
    "    customers.last_name, \n",
    "    customers.dob,\n",
    "    SUM(transactions.list_price) AS sum_transactions,\n",
    "    MIN(transactions.list_price) AS min_transactions,\n",
    "    MAX(transactions.list_price) AS max_transactions,\n",
    "    COUNT(transactions.list_price) AS count_transactions\n",
    "FROM transactions\n",
    "    JOIN customers ON transactions.customer_id = customers.customer_id\n",
    "GROUP BY \n",
    "    customers.customer_id, \n",
    "    customers.first_name, \n",
    "    customers.last_name, \n",
    "    customers.dob\n",
    "ORDER BY \n",
    "    sum_transactions DESC,\n",
    "    count_transactions DESC;\n",
    "~~~~"
   ]
  },
  {
   "cell_type": "markdown",
   "metadata": {},
   "source": [
    "![title](Схема_4.1.png)"
   ]
  },
  {
   "cell_type": "markdown",
   "metadata": {},
   "source": [
    "##### 4.2. Выполните используя только оконные функции."
   ]
  },
  {
   "cell_type": "markdown",
   "metadata": {},
   "source": [
    "~~~~sql\n",
    "WITH aggregated AS (\n",
    "    SELECT\n",
    "        customers.customer_id,\n",
    "        customers.first_name,\n",
    "        customers.last_name,\n",
    "        customers.dob,\n",
    "        SUM(transactions.list_price) OVER (PARTITION BY customers.customer_id) AS sum_transactions,\n",
    "        MIN(transactions.list_price) OVER (PARTITION BY customers.customer_id) AS min_transactions,\n",
    "        MAX(transactions.list_price) OVER (PARTITION BY customers.customer_id) AS max_transactions,\n",
    "        COUNT(transactions.list_price) OVER (PARTITION BY customers.customer_id) AS count_transactions,\n",
    "        ROW_NUMBER() OVER (PARTITION BY customers.customer_id ORDER BY transactions.transaction_date) AS rn\n",
    "    FROM transactions\n",
    "        JOIN customers ON transactions.customer_id = customers.customer_id\n",
    ")\n",
    "SELECT \n",
    "    customer_id, \n",
    "    first_name, \n",
    "    last_name, \n",
    "    dob,\n",
    "    sum_transactions,\n",
    "    min_transactions,\n",
    "    max_transactions,\n",
    "    count_transactions\n",
    "FROM aggregated\n",
    "WHERE \n",
    "    rn = 1\n",
    "ORDER BY \n",
    "    sum_transactions DESC,\n",
    "    count_transactions DESC;\n",
    "~~~~"
   ]
  },
  {
   "cell_type": "markdown",
   "metadata": {},
   "source": [
    "![title](Схема_4.2.png)"
   ]
  },
  {
   "cell_type": "markdown",
   "metadata": {},
   "source": [
    "#### 5. Найти имена и фамилии клиентов с минимальной/максимальной суммой транзакций за весь период (сумма транзакций не может быть null). ####"
   ]
  },
  {
   "cell_type": "markdown",
   "metadata": {},
   "source": [
    "##### 5.1. Напишите запрос для минимальной суммы."
   ]
  },
  {
   "cell_type": "markdown",
   "metadata": {},
   "source": [
    "~~~~sql\n",
    "WITH aggregated AS (\n",
    "    SELECT \n",
    "        customers.first_name,\n",
    "        customers.last_name,\n",
    "        SUM(transactions.list_price) AS min_sum_transactions\n",
    "    FROM transactions\n",
    "        JOIN customers ON transactions.customer_id = customers.customer_id\n",
    "    GROUP BY \n",
    "        customers.first_name, \n",
    "        customers.last_name\n",
    ")\n",
    "SELECT \n",
    "    first_name, \n",
    "    last_name, \n",
    "    min_sum_transactions\n",
    "FROM aggregated\n",
    "WHERE \n",
    "    min_sum_transactions = (\n",
    "        SELECT \n",
    "            MIN(min_sum_transactions) \n",
    "        FROM aggregated\n",
    "    );\n",
    "~~~~"
   ]
  },
  {
   "cell_type": "markdown",
   "metadata": {},
   "source": [
    "![title](Схема_5.1.png)"
   ]
  },
  {
   "cell_type": "markdown",
   "metadata": {},
   "source": [
    "##### 5.2. Напишите запрос для максимальной суммы."
   ]
  },
  {
   "cell_type": "markdown",
   "metadata": {},
   "source": [
    "~~~~sql\n",
    "WITH aggregated AS (\n",
    "    SELECT \n",
    "        customers.first_name,\n",
    "        customers.last_name,\n",
    "        SUM(transactions.list_price) AS max_sum_transactions\n",
    "    FROM transactions\n",
    "        JOIN customers ON transactions.customer_id = customers.customer_id\n",
    "    GROUP BY \n",
    "        customers.first_name, \n",
    "        customers.last_name\n",
    ")\n",
    "SELECT \n",
    "    first_name, \n",
    "    last_name, \n",
    "    max_sum_transactions\n",
    "FROM aggregated\n",
    "WHERE \n",
    "    max_sum_transactions = (\n",
    "        SELECT \n",
    "            MAX(max_sum_transactions) \n",
    "        FROM aggregated\n",
    "    );\n",
    "~~~~"
   ]
  },
  {
   "cell_type": "markdown",
   "metadata": {},
   "source": [
    "![title](Схема_5.2.png)"
   ]
  },
  {
   "cell_type": "markdown",
   "metadata": {},
   "source": [
    "#### 6. Вывести только самые первые транзакции клиентов. Решить с помощью оконных функций. ####"
   ]
  },
  {
   "cell_type": "markdown",
   "metadata": {},
   "source": [
    "~~~~sql\n",
    "WITH aggregated AS (\n",
    "    SELECT \n",
    "        transactions.transaction_id,\n",
    "        transactions.customer_id,\n",
    "        transactions.product_new_id,\n",
    "        transactions.transaction_date,\n",
    "        transactions.online_order,\n",
    "        transactions.order_status,\n",
    "        transactions.list_price,\n",
    "        ROW_NUMBER() OVER(PARTITION BY customer_id ORDER BY transaction_date) AS rn\n",
    "    FROM transactions\n",
    ")\n",
    "SELECT\n",
    "    transaction_id,\n",
    "    customer_id,\n",
    "    product_new_id,\n",
    "    transaction_date,\n",
    "    online_order,\n",
    "    order_status,\n",
    "    list_price\n",
    "FROM aggregated\n",
    "WHERE \n",
    "    rn = 1;\n",
    "~~~~"
   ]
  },
  {
   "cell_type": "markdown",
   "metadata": {},
   "source": [
    "![title](Схема_6.png)"
   ]
  },
  {
   "cell_type": "markdown",
   "metadata": {},
   "source": [
    "#### 7. Вывести имена, фамилии и профессии клиентов, между транзакциями которых был максимальный интервал (интервал вычисляется в днях). ####"
   ]
  },
  {
   "cell_type": "markdown",
   "metadata": {},
   "source": [
    "~~~~sql\n",
    "WITH customer_max AS (\n",
    "    SELECT \n",
    "        customer_id,\n",
    "    MAX(gap) AS max_gap\n",
    "    FROM (\n",
    "        SELECT \n",
    "            customer_id,\n",
    "            transaction_date - LAG(transaction_date) OVER (PARTITION BY customer_id ORDER BY transaction_date) AS gap\n",
    "        FROM transactions\n",
    "    ) AS gaps\n",
    "    GROUP BY \n",
    "        customer_id\n",
    ")\n",
    "SELECT \n",
    "    customers.first_name, \n",
    "    customers.last_name, \n",
    "    job_categories.job_title\n",
    "FROM customer_max\n",
    "    JOIN customers ON customer_max.customer_id = customers.customer_id\n",
    "    JOIN job_categories ON customers.job_id = job_categories.job_id\n",
    "WHERE \n",
    "    customer_max.max_gap = (\n",
    "    SELECT \n",
    "        MAX(max_gap) \n",
    "    FROM customer_max\n",
    "    );\n",
    "~~~~"
   ]
  },
  {
   "cell_type": "markdown",
   "metadata": {},
   "source": [
    "![title](Схема_7.png)"
   ]
  }
 ],
 "metadata": {
  "language_info": {
   "name": "python"
  }
 },
 "nbformat": 4,
 "nbformat_minor": 2
}
